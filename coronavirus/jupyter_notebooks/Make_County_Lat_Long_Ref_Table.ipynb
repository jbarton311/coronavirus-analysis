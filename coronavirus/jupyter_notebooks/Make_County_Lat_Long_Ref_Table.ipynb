{
 "cells": [
  {
   "cell_type": "code",
   "execution_count": 1,
   "metadata": {},
   "outputs": [
    {
     "name": "stdout",
     "output_type": "stream",
     "text": [
      "/Users/amlvt225/Code/GitHub/coronavirus-analysis/coronavirus/python_scripts\n"
     ]
    }
   ],
   "source": [
    "cd ../python_scripts/"
   ]
  },
  {
   "cell_type": "code",
   "execution_count": 2,
   "metadata": {},
   "outputs": [],
   "source": [
    "from uszipcode import SearchEngine"
   ]
  },
  {
   "cell_type": "code",
   "execution_count": 3,
   "metadata": {},
   "outputs": [],
   "source": [
    "from datetime import datetime\n",
    "import os\n",
    "import pandas as pd\n",
    "from pycountry import countries\n",
    "from utils import AddDailyFields"
   ]
  },
  {
   "cell_type": "code",
   "execution_count": 4,
   "metadata": {},
   "outputs": [],
   "source": [
    "import utils\n",
    "from nyt_us_data import NYTCountyCases\n",
    "from data_aggregators import (GlobalDataJHU, USDataNYT)\n"
   ]
  },
  {
   "cell_type": "code",
   "execution_count": 5,
   "metadata": {},
   "outputs": [],
   "source": [
    "pd.options.display.max_rows=500\n",
    "pd.options.display.max_columns=500"
   ]
  },
  {
   "cell_type": "code",
   "execution_count": 12,
   "metadata": {},
   "outputs": [],
   "source": [
    "search = SearchEngine(simple_zipcode=True)"
   ]
  },
  {
   "cell_type": "code",
   "execution_count": 6,
   "metadata": {
    "scrolled": true
   },
   "outputs": [
    {
     "name": "stderr",
     "output_type": "stream",
     "text": [
      "/Users/amlvt225/Code/GitHub/coronavirus-analysis/coronavirus/python_scripts/utils.py:29: FutureWarning: The pandas.np module is deprecated and will be removed from pandas in a future version. Import numpy directly instead\n",
      "  df[\"previous_days_date\"] = df[\"date\"] + pd.np.timedelta64(1, \"D\")\n"
     ]
    },
    {
     "name": "stdout",
     "output_type": "stream",
     "text": [
      "Zero day for states\n",
      "Zero day for states\n",
      "Zero day for states\n",
      "Zero day for states\n",
      "Adding in country codes\n"
     ]
    },
    {
     "name": "stderr",
     "output_type": "stream",
     "text": [
      "/Users/amlvt225/anaconda3/envs/osh_v2/lib/python3.7/site-packages/pandas/core/indexing.py:966: SettingWithCopyWarning: \n",
      "A value is trying to be set on a copy of a slice from a DataFrame.\n",
      "Try using .loc[row_indexer,col_indexer] = value instead\n",
      "\n",
      "See the caveats in the documentation: https://pandas.pydata.org/pandas-docs/stable/user_guide/indexing.html#returning-a-view-versus-a-copy\n",
      "  self.obj[item] = s\n"
     ]
    }
   ],
   "source": [
    "yay = USDataNYT()\n",
    "yay.run()"
   ]
  },
  {
   "cell_type": "code",
   "execution_count": 7,
   "metadata": {},
   "outputs": [],
   "source": [
    "us = yay.data"
   ]
  },
  {
   "cell_type": "code",
   "execution_count": 9,
   "metadata": {},
   "outputs": [],
   "source": [
    "def pandas_apply_location_attr(row, attr='zipcode'):\n",
    "    \"\"\"\n",
    "    Pandas function to loop thru a df, grab lat and long\n",
    "    values, then search for a specific attribute in the\n",
    "    zip class\n",
    "    \"\"\"\n",
    "    lat = row['lat']\n",
    "    long = row['long']\n",
    "    result = lat_long_lookup(lat, long)\n",
    "    try:\n",
    "        return getattr(result, attr)\n",
    "    except AttributeError:\n",
    "        return \"NOT FOUND\"\n",
    "\n",
    "def lat_long_lookup(lat, long):\n",
    "    \"\"\"\n",
    "    Arguments: Latitude, Longitude\n",
    "    Returns: a \"ZIPCODE\" object\n",
    "    \"\"\"\n",
    "    result = search.by_coordinates(lat, long, radius=40, returns=1)\n",
    "    try:\n",
    "        trimmed = result[0]\n",
    "    except IndexError:\n",
    "        print(lat, long)\n",
    "        return \"NOT FOUND\"\n",
    "    \n",
    "    return trimmed\n",
    "    #return result.zipcode"
   ]
  },
  {
   "cell_type": "code",
   "execution_count": 13,
   "metadata": {},
   "outputs": [
    {
     "data": {
      "text/plain": [
       "SimpleZipcode(zipcode='27376', zipcode_type='Standard', major_city='West End', post_office_city='West End, NC', common_city_list=['West End', 'Seven Lakes'], county='Moore County', state='NC', lat=35.25, lng=-79.53, timezone='Eastern', radius_in_miles=7.0, area_code_list=['910'], population=9386, population_density=135.0, land_area_in_sqmi=69.76, water_area_in_sqmi=1.87, housing_units=4418, occupied_housing_units=3908, median_home_value=224700, median_household_income=53877, bounds_west=-79.641693, bounds_east=-79.435784, bounds_north=35.323311, bounds_south=35.181445)"
      ]
     },
     "execution_count": 13,
     "metadata": {},
     "output_type": "execute_result"
    }
   ],
   "source": [
    "lat_long_lookup(35.308272, -79.492725)"
   ]
  },
  {
   "cell_type": "code",
   "execution_count": 14,
   "metadata": {},
   "outputs": [],
   "source": [
    "ref_lat_long = us[['state_code','county','lat','long']].drop_duplicates()"
   ]
  },
  {
   "cell_type": "code",
   "execution_count": 15,
   "metadata": {},
   "outputs": [
    {
     "name": "stdout",
     "output_type": "stream",
     "text": [
      "nan nan\n",
      "nan nan\n",
      "nan nan\n",
      "nan nan\n",
      "nan nan\n",
      "nan nan\n",
      "nan nan\n",
      "35.829692 -111.773728\n",
      "nan nan\n",
      "nan nan\n",
      "nan nan\n",
      "nan nan\n",
      "nan nan\n",
      "nan nan\n",
      "nan nan\n",
      "nan nan\n",
      "nan nan\n",
      "nan nan\n",
      "nan nan\n",
      "nan nan\n",
      "62.27909399999999 -149.619094\n",
      "nan nan\n",
      "nan nan\n",
      "nan nan\n",
      "nan nan\n",
      "nan nan\n",
      "nan nan\n",
      "nan nan\n",
      "nan nan\n"
     ]
    }
   ],
   "source": [
    "ref_lat_long['TEST_zipcode'] = ref_lat_long.apply(pandas_apply_location_attr, \n",
    "                                                  axis=1,\n",
    "                                                  attr='zipcode')"
   ]
  },
  {
   "cell_type": "code",
   "execution_count": 16,
   "metadata": {},
   "outputs": [
    {
     "name": "stdout",
     "output_type": "stream",
     "text": [
      "nan nan\n",
      "nan nan\n",
      "nan nan\n",
      "nan nan\n",
      "nan nan\n",
      "nan nan\n",
      "nan nan\n",
      "35.829692 -111.773728\n",
      "nan nan\n",
      "nan nan\n",
      "nan nan\n",
      "nan nan\n",
      "nan nan\n",
      "nan nan\n",
      "nan nan\n",
      "nan nan\n",
      "nan nan\n",
      "nan nan\n",
      "nan nan\n",
      "nan nan\n",
      "62.27909399999999 -149.619094\n",
      "nan nan\n",
      "nan nan\n",
      "nan nan\n",
      "nan nan\n",
      "nan nan\n",
      "nan nan\n",
      "nan nan\n",
      "nan nan\n"
     ]
    }
   ],
   "source": [
    "ref_lat_long['TEST_county'] = ref_lat_long.apply(pandas_apply_location_attr, \n",
    "                                                  axis=1,\n",
    "                                                  attr='county')"
   ]
  },
  {
   "cell_type": "code",
   "execution_count": 17,
   "metadata": {},
   "outputs": [
    {
     "name": "stdout",
     "output_type": "stream",
     "text": [
      "nan nan\n",
      "nan nan\n",
      "nan nan\n",
      "nan nan\n",
      "nan nan\n",
      "nan nan\n",
      "nan nan\n",
      "35.829692 -111.773728\n",
      "nan nan\n",
      "nan nan\n",
      "nan nan\n",
      "nan nan\n",
      "nan nan\n",
      "nan nan\n",
      "nan nan\n",
      "nan nan\n",
      "nan nan\n",
      "nan nan\n",
      "nan nan\n",
      "nan nan\n",
      "62.27909399999999 -149.619094\n",
      "nan nan\n",
      "nan nan\n",
      "nan nan\n",
      "nan nan\n",
      "nan nan\n",
      "nan nan\n",
      "nan nan\n",
      "nan nan\n"
     ]
    }
   ],
   "source": [
    "ref_lat_long['TEST_state'] = ref_lat_long.apply(pandas_apply_location_attr, \n",
    "                                                  axis=1,\n",
    "                                                  attr='state')"
   ]
  },
  {
   "cell_type": "code",
   "execution_count": 18,
   "metadata": {},
   "outputs": [
    {
     "name": "stdout",
     "output_type": "stream",
     "text": [
      "nan nan\n",
      "nan nan\n",
      "nan nan\n",
      "nan nan\n",
      "nan nan\n",
      "nan nan\n",
      "nan nan\n",
      "35.829692 -111.773728\n",
      "nan nan\n",
      "nan nan\n",
      "nan nan\n",
      "nan nan\n",
      "nan nan\n",
      "nan nan\n",
      "nan nan\n",
      "nan nan\n",
      "nan nan\n",
      "nan nan\n",
      "nan nan\n",
      "nan nan\n",
      "62.27909399999999 -149.619094\n",
      "nan nan\n",
      "nan nan\n",
      "nan nan\n",
      "nan nan\n",
      "nan nan\n",
      "nan nan\n",
      "nan nan\n",
      "nan nan\n"
     ]
    }
   ],
   "source": [
    "ref_lat_long['TEST_population'] = ref_lat_long.apply(pandas_apply_location_attr, \n",
    "                                                  axis=1,\n",
    "                                                  attr='population')"
   ]
  },
  {
   "cell_type": "code",
   "execution_count": 27,
   "metadata": {},
   "outputs": [
    {
     "name": "stdout",
     "output_type": "stream",
     "text": [
      "nan nan\n",
      "nan nan\n",
      "nan nan\n",
      "nan nan\n",
      "nan nan\n",
      "nan nan\n",
      "nan nan\n",
      "35.829692 -111.773728\n",
      "nan nan\n",
      "nan nan\n",
      "nan nan\n",
      "nan nan\n",
      "nan nan\n",
      "nan nan\n",
      "nan nan\n",
      "nan nan\n",
      "nan nan\n",
      "nan nan\n",
      "nan nan\n",
      "nan nan\n",
      "62.27909399999999 -149.619094\n",
      "nan nan\n",
      "nan nan\n",
      "nan nan\n",
      "nan nan\n",
      "nan nan\n",
      "nan nan\n",
      "nan nan\n",
      "nan nan\n"
     ]
    }
   ],
   "source": [
    "ref_lat_long['TEST_population_density'] = ref_lat_long.apply(pandas_apply_location_attr, \n",
    "                                                  axis=1,\n",
    "                                                  attr='population_density')"
   ]
  },
  {
   "cell_type": "code",
   "execution_count": 32,
   "metadata": {},
   "outputs": [
    {
     "data": {
      "text/html": [
       "<div>\n",
       "<style scoped>\n",
       "    .dataframe tbody tr th:only-of-type {\n",
       "        vertical-align: middle;\n",
       "    }\n",
       "\n",
       "    .dataframe tbody tr th {\n",
       "        vertical-align: top;\n",
       "    }\n",
       "\n",
       "    .dataframe thead th {\n",
       "        text-align: right;\n",
       "    }\n",
       "</style>\n",
       "<table border=\"1\" class=\"dataframe\">\n",
       "  <thead>\n",
       "    <tr style=\"text-align: right;\">\n",
       "      <th></th>\n",
       "      <th>state_code</th>\n",
       "      <th>county</th>\n",
       "      <th>lat</th>\n",
       "      <th>long</th>\n",
       "      <th>TEST_zipcode</th>\n",
       "      <th>TEST_county</th>\n",
       "      <th>TEST_state</th>\n",
       "      <th>TEST_population</th>\n",
       "      <th>TEST_population_density</th>\n",
       "    </tr>\n",
       "  </thead>\n",
       "  <tbody>\n",
       "    <tr>\n",
       "      <th>0</th>\n",
       "      <td>WA</td>\n",
       "      <td>Snohomish</td>\n",
       "      <td>48.070464</td>\n",
       "      <td>-121.936784</td>\n",
       "      <td>98258</td>\n",
       "      <td>Snohomish County</td>\n",
       "      <td>WA</td>\n",
       "      <td>30524</td>\n",
       "      <td>1058</td>\n",
       "    </tr>\n",
       "    <tr>\n",
       "      <th>3</th>\n",
       "      <td>IL</td>\n",
       "      <td>Cook</td>\n",
       "      <td>41.894294</td>\n",
       "      <td>-87.645455</td>\n",
       "      <td>60654</td>\n",
       "      <td>Cook County</td>\n",
       "      <td>IL</td>\n",
       "      <td>14875</td>\n",
       "      <td>24468</td>\n",
       "    </tr>\n",
       "    <tr>\n",
       "      <th>5</th>\n",
       "      <td>CA</td>\n",
       "      <td>Orange</td>\n",
       "      <td>33.675687</td>\n",
       "      <td>-117.777207</td>\n",
       "      <td>92604</td>\n",
       "      <td>Orange County</td>\n",
       "      <td>CA</td>\n",
       "      <td>26853</td>\n",
       "      <td>7960</td>\n",
       "    </tr>\n",
       "    <tr>\n",
       "      <th>8</th>\n",
       "      <td>AZ</td>\n",
       "      <td>Maricopa</td>\n",
       "      <td>33.345176</td>\n",
       "      <td>-112.498930</td>\n",
       "      <td>85338</td>\n",
       "      <td>Maricopa County</td>\n",
       "      <td>AZ</td>\n",
       "      <td>41115</td>\n",
       "      <td>557</td>\n",
       "    </tr>\n",
       "    <tr>\n",
       "      <th>9</th>\n",
       "      <td>CA</td>\n",
       "      <td>Los Angeles</td>\n",
       "      <td>34.196398</td>\n",
       "      <td>-118.261862</td>\n",
       "      <td>91208</td>\n",
       "      <td>Los Angeles County</td>\n",
       "      <td>CA</td>\n",
       "      <td>16245</td>\n",
       "      <td>2354</td>\n",
       "    </tr>\n",
       "  </tbody>\n",
       "</table>\n",
       "</div>"
      ],
      "text/plain": [
       "  state_code       county        lat        long TEST_zipcode  \\\n",
       "0         WA    Snohomish  48.070464 -121.936784        98258   \n",
       "3         IL         Cook  41.894294  -87.645455        60654   \n",
       "5         CA       Orange  33.675687 -117.777207        92604   \n",
       "8         AZ     Maricopa  33.345176 -112.498930        85338   \n",
       "9         CA  Los Angeles  34.196398 -118.261862        91208   \n",
       "\n",
       "          TEST_county TEST_state TEST_population TEST_population_density  \n",
       "0    Snohomish County         WA           30524                    1058  \n",
       "3         Cook County         IL           14875                   24468  \n",
       "5       Orange County         CA           26853                    7960  \n",
       "8     Maricopa County         AZ           41115                     557  \n",
       "9  Los Angeles County         CA           16245                    2354  "
      ]
     },
     "execution_count": 32,
     "metadata": {},
     "output_type": "execute_result"
    }
   ],
   "source": [
    "ref_lat_long.head()"
   ]
  },
  {
   "cell_type": "code",
   "execution_count": 39,
   "metadata": {},
   "outputs": [],
   "source": [
    "matches = ref_lat_long.loc[ref_lat_long['state_code'] == ref_lat_long['TEST_state']]"
   ]
  },
  {
   "cell_type": "code",
   "execution_count": 40,
   "metadata": {},
   "outputs": [],
   "source": [
    "misses = ref_lat_long.loc[ref_lat_long['state_code'] != ref_lat_long['TEST_state']]"
   ]
  },
  {
   "cell_type": "code",
   "execution_count": 41,
   "metadata": {},
   "outputs": [
    {
     "data": {
      "text/plain": [
       "((1767, 9), (30, 9))"
      ]
     },
     "execution_count": 41,
     "metadata": {},
     "output_type": "execute_result"
    }
   ],
   "source": [
    "matches.shape, misses.shape"
   ]
  },
  {
   "cell_type": "code",
   "execution_count": 42,
   "metadata": {},
   "outputs": [
    {
     "data": {
      "text/plain": [
       "'/Users/amlvt225/Code/GitHub/coronavirus-analysis/coronavirus/python_scripts'"
      ]
     },
     "execution_count": 42,
     "metadata": {},
     "output_type": "execute_result"
    }
   ],
   "source": [
    "pwd"
   ]
  },
  {
   "cell_type": "code",
   "execution_count": 46,
   "metadata": {},
   "outputs": [],
   "source": [
    "ref_lat_long.to_csv('../ref_data/county_to_zip_ref.csv', index=False)"
   ]
  },
  {
   "cell_type": "code",
   "execution_count": 45,
   "metadata": {},
   "outputs": [
    {
     "data": {
      "text/plain": [
       "'/Users/amlvt225/Code/GitHub/coronavirus-analysis/coronavirus/python_scripts'"
      ]
     },
     "execution_count": 45,
     "metadata": {},
     "output_type": "execute_result"
    }
   ],
   "source": [
    "pwd"
   ]
  },
  {
   "cell_type": "code",
   "execution_count": null,
   "metadata": {},
   "outputs": [],
   "source": [
    "cd ../output_data/cou"
   ]
  }
 ],
 "metadata": {
  "kernelspec": {
   "display_name": "Python [conda env:osh_v2]",
   "language": "python",
   "name": "conda-env-osh_v2-py"
  },
  "language_info": {
   "codemirror_mode": {
    "name": "ipython",
    "version": 3
   },
   "file_extension": ".py",
   "mimetype": "text/x-python",
   "name": "python",
   "nbconvert_exporter": "python",
   "pygments_lexer": "ipython3",
   "version": "3.7.5"
  },
  "varInspector": {
   "cols": {
    "lenName": 16,
    "lenType": 16,
    "lenVar": 40
   },
   "kernels_config": {
    "python": {
     "delete_cmd_postfix": "",
     "delete_cmd_prefix": "del ",
     "library": "var_list.py",
     "varRefreshCmd": "print(var_dic_list())"
    },
    "r": {
     "delete_cmd_postfix": ") ",
     "delete_cmd_prefix": "rm(",
     "library": "var_list.r",
     "varRefreshCmd": "cat(var_dic_list()) "
    }
   },
   "types_to_exclude": [
    "module",
    "function",
    "builtin_function_or_method",
    "instance",
    "_Feature"
   ],
   "window_display": false
  }
 },
 "nbformat": 4,
 "nbformat_minor": 2
}
