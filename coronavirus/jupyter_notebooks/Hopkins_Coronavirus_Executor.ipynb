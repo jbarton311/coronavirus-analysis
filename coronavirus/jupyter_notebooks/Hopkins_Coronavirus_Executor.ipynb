{
 "cells": [
  {
   "cell_type": "code",
   "execution_count": 1,
   "metadata": {},
   "outputs": [
    {
     "name": "stdout",
     "output_type": "stream",
     "text": [
      "/Users/amlvt225/Code/GitHub/coronavirus-analysis/coronavirus/python_scripts\n"
     ]
    }
   ],
   "source": [
    "cd ../python_scripts/"
   ]
  },
  {
   "cell_type": "code",
   "execution_count": 2,
   "metadata": {},
   "outputs": [],
   "source": [
    "from datetime import datetime\n",
    "import os\n",
    "import pandas as pd\n",
    "from pycountry import countries\n",
    "\n",
    "from hopkins_cleaner import HopkinsDataFull\n",
    "from us_data_cleaner import USDataCleanUp\n",
    "\n",
    "pd.options.display.max_rows=500\n",
    "pd.options.display.max_columns=500"
   ]
  },
  {
   "cell_type": "code",
   "execution_count": 3,
   "metadata": {},
   "outputs": [
    {
     "name": "stderr",
     "output_type": "stream",
     "text": [
      "/Users/amlvt225/Code/GitHub/coronavirus-analysis/coronavirus/python_scripts/hopkins_cleaner.py:103: FutureWarning: The pandas.np module is deprecated and will be removed from pandas in a future version. Import numpy directly instead\n",
      "  df[\"previous_days_date\"] = df[\"date\"] + pd.np.timedelta64(1, \"D\")\n",
      "/Users/amlvt225/Code/GitHub/coronavirus-analysis/coronavirus/python_scripts/hopkins_cleaner.py:258: SettingWithCopyWarning: \n",
      "A value is trying to be set on a copy of a slice from a DataFrame.\n",
      "Try using .loc[row_indexer,col_indexer] = value instead\n",
      "\n",
      "See the caveats in the documentation: https://pandas.pydata.org/pandas-docs/stable/user_guide/indexing.html#returning-a-view-versus-a-copy\n",
      "  ].rank(ascending=True)\n",
      "/Users/amlvt225/Code/GitHub/coronavirus-analysis/coronavirus/python_scripts/hopkins_cleaner.py:276: SettingWithCopyWarning: \n",
      "A value is trying to be set on a copy of a slice from a DataFrame.\n",
      "Try using .loc[row_indexer,col_indexer] = value instead\n",
      "\n",
      "See the caveats in the documentation: https://pandas.pydata.org/pandas-docs/stable/user_guide/indexing.html#returning-a-view-versus-a-copy\n",
      "  ].rank(ascending=True)\n"
     ]
    }
   ],
   "source": [
    "self = HopkinsDataFull()\n",
    "self.run()\n",
    "df = self.data"
   ]
  },
  {
   "cell_type": "code",
   "execution_count": 4,
   "metadata": {},
   "outputs": [
    {
     "data": {
      "text/plain": [
       "Timestamp('2020-03-21 00:00:00')"
      ]
     },
     "execution_count": 4,
     "metadata": {},
     "output_type": "execute_result"
    }
   ],
   "source": [
    "df.date.max() "
   ]
  },
  {
   "cell_type": "code",
   "execution_count": 5,
   "metadata": {},
   "outputs": [
    {
     "data": {
      "text/html": [
       "<div>\n",
       "<style scoped>\n",
       "    .dataframe tbody tr th:only-of-type {\n",
       "        vertical-align: middle;\n",
       "    }\n",
       "\n",
       "    .dataframe tbody tr th {\n",
       "        vertical-align: top;\n",
       "    }\n",
       "\n",
       "    .dataframe thead th {\n",
       "        text-align: right;\n",
       "    }\n",
       "</style>\n",
       "<table border=\"1\" class=\"dataframe\">\n",
       "  <thead>\n",
       "    <tr style=\"text-align: right;\">\n",
       "      <th></th>\n",
       "      <th>province_or_state</th>\n",
       "      <th>country_or_region</th>\n",
       "      <th>date</th>\n",
       "      <th>running_total_cases</th>\n",
       "      <th>state_and_country</th>\n",
       "      <th>running_total_cases_prev_day</th>\n",
       "      <th>daily_new_cases</th>\n",
       "      <th>running_total_recoveries</th>\n",
       "      <th>running_total_recoveries_prev_day</th>\n",
       "      <th>daily_new_recoveries</th>\n",
       "      <th>running_total_deaths</th>\n",
       "      <th>running_total_deaths_prev_day</th>\n",
       "      <th>daily_new_deaths</th>\n",
       "      <th>state_name</th>\n",
       "      <th>latitude</th>\n",
       "      <th>longitude</th>\n",
       "      <th>first_case_state_rank</th>\n",
       "      <th>first_case_country_rank</th>\n",
       "      <th>country_code_2</th>\n",
       "      <th>country_code_3</th>\n",
       "      <th>country_population_2018</th>\n",
       "      <th>country_median_age</th>\n",
       "      <th>country_running_agg</th>\n",
       "      <th>hundred_case_state_rank</th>\n",
       "      <th>hundred_case_country_rank</th>\n",
       "    </tr>\n",
       "  </thead>\n",
       "  <tbody>\n",
       "    <tr>\n",
       "      <th>0</th>\n",
       "      <td>Not Provided</td>\n",
       "      <td>Thailand</td>\n",
       "      <td>2020-01-22</td>\n",
       "      <td>2</td>\n",
       "      <td>Not Provided-Thailand</td>\n",
       "      <td>0.0</td>\n",
       "      <td>2.0</td>\n",
       "      <td>0</td>\n",
       "      <td>0.0</td>\n",
       "      <td>0.0</td>\n",
       "      <td>0</td>\n",
       "      <td>0.0</td>\n",
       "      <td>0.0</td>\n",
       "      <td>NaN</td>\n",
       "      <td>15.0</td>\n",
       "      <td>101.0</td>\n",
       "      <td>NaN</td>\n",
       "      <td>NaN</td>\n",
       "      <td>TH</td>\n",
       "      <td>THA</td>\n",
       "      <td>69428524.0</td>\n",
       "      <td>37.7</td>\n",
       "      <td>2</td>\n",
       "      <td>NaN</td>\n",
       "      <td>NaN</td>\n",
       "    </tr>\n",
       "    <tr>\n",
       "      <th>1</th>\n",
       "      <td>Not Provided</td>\n",
       "      <td>Thailand</td>\n",
       "      <td>2020-01-23</td>\n",
       "      <td>3</td>\n",
       "      <td>Not Provided-Thailand</td>\n",
       "      <td>2.0</td>\n",
       "      <td>1.0</td>\n",
       "      <td>0</td>\n",
       "      <td>0.0</td>\n",
       "      <td>0.0</td>\n",
       "      <td>0</td>\n",
       "      <td>0.0</td>\n",
       "      <td>0.0</td>\n",
       "      <td>NaN</td>\n",
       "      <td>15.0</td>\n",
       "      <td>101.0</td>\n",
       "      <td>NaN</td>\n",
       "      <td>NaN</td>\n",
       "      <td>TH</td>\n",
       "      <td>THA</td>\n",
       "      <td>69428524.0</td>\n",
       "      <td>37.7</td>\n",
       "      <td>3</td>\n",
       "      <td>NaN</td>\n",
       "      <td>NaN</td>\n",
       "    </tr>\n",
       "  </tbody>\n",
       "</table>\n",
       "</div>"
      ],
      "text/plain": [
       "  province_or_state country_or_region       date  running_total_cases  \\\n",
       "0      Not Provided          Thailand 2020-01-22                    2   \n",
       "1      Not Provided          Thailand 2020-01-23                    3   \n",
       "\n",
       "       state_and_country  running_total_cases_prev_day  daily_new_cases  \\\n",
       "0  Not Provided-Thailand                           0.0              2.0   \n",
       "1  Not Provided-Thailand                           2.0              1.0   \n",
       "\n",
       "   running_total_recoveries  running_total_recoveries_prev_day  \\\n",
       "0                         0                                0.0   \n",
       "1                         0                                0.0   \n",
       "\n",
       "   daily_new_recoveries  running_total_deaths  running_total_deaths_prev_day  \\\n",
       "0                   0.0                     0                            0.0   \n",
       "1                   0.0                     0                            0.0   \n",
       "\n",
       "   daily_new_deaths state_name  latitude  longitude  first_case_state_rank  \\\n",
       "0               0.0        NaN      15.0      101.0                    NaN   \n",
       "1               0.0        NaN      15.0      101.0                    NaN   \n",
       "\n",
       "   first_case_country_rank country_code_2 country_code_3  \\\n",
       "0                      NaN             TH            THA   \n",
       "1                      NaN             TH            THA   \n",
       "\n",
       "   country_population_2018  country_median_age  country_running_agg  \\\n",
       "0               69428524.0                37.7                    2   \n",
       "1               69428524.0                37.7                    3   \n",
       "\n",
       "   hundred_case_state_rank  hundred_case_country_rank  \n",
       "0                      NaN                        NaN  \n",
       "1                      NaN                        NaN  "
      ]
     },
     "execution_count": 5,
     "metadata": {},
     "output_type": "execute_result"
    }
   ],
   "source": [
    "df.head(2)"
   ]
  },
  {
   "cell_type": "code",
   "execution_count": 14,
   "metadata": {},
   "outputs": [
    {
     "data": {
      "text/plain": [
       "(17460, 25)"
      ]
     },
     "execution_count": 14,
     "metadata": {},
     "output_type": "execute_result"
    }
   ],
   "source": [
    "df.shape"
   ]
  },
  {
   "cell_type": "code",
   "execution_count": 16,
   "metadata": {},
   "outputs": [
    {
     "data": {
      "text/plain": [
       "(17460, 25)"
      ]
     },
     "execution_count": 16,
     "metadata": {},
     "output_type": "execute_result"
    }
   ],
   "source": [
    "df.drop_duplicates(['province_or_state', 'country_or_region','date']).shape"
   ]
  },
  {
   "cell_type": "code",
   "execution_count": 22,
   "metadata": {},
   "outputs": [],
   "source": [
    "cases = df['daily_new_cases'].sum()"
   ]
  },
  {
   "cell_type": "code",
   "execution_count": 23,
   "metadata": {},
   "outputs": [],
   "source": [
    "recoveries = df['daily_new_recoveries'].sum()"
   ]
  },
  {
   "cell_type": "code",
   "execution_count": 24,
   "metadata": {},
   "outputs": [],
   "source": [
    "deaths = df['daily_new_deaths'].sum()"
   ]
  },
  {
   "cell_type": "code",
   "execution_count": 28,
   "metadata": {},
   "outputs": [
    {
     "data": {
      "text/plain": [
       "(Timestamp('2020-01-22 00:00:00'), Timestamp('2020-03-21 00:00:00'))"
      ]
     },
     "execution_count": 28,
     "metadata": {},
     "output_type": "execute_result"
    }
   ],
   "source": [
    "df.date.min(), df.date.max()"
   ]
  },
  {
   "cell_type": "code",
   "execution_count": null,
   "metadata": {},
   "outputs": [],
   "source": []
  },
  {
   "cell_type": "code",
   "execution_count": 26,
   "metadata": {},
   "outputs": [
    {
     "data": {
      "text/plain": [
       "200052.0"
      ]
     },
     "execution_count": 26,
     "metadata": {},
     "output_type": "execute_result"
    }
   ],
   "source": [
    "cases - (recoveries + deaths)"
   ]
  },
  {
   "cell_type": "code",
   "execution_count": null,
   "metadata": {},
   "outputs": [],
   "source": []
  },
  {
   "cell_type": "code",
   "execution_count": null,
   "metadata": {},
   "outputs": [],
   "source": []
  },
  {
   "cell_type": "code",
   "execution_count": null,
   "metadata": {},
   "outputs": [],
   "source": []
  },
  {
   "cell_type": "code",
   "execution_count": 17,
   "metadata": {},
   "outputs": [],
   "source": [
    "us = df.loc[df['country_code_3'] == 'USA']"
   ]
  },
  {
   "cell_type": "code",
   "execution_count": 18,
   "metadata": {},
   "outputs": [
    {
     "data": {
      "text/plain": [
       "25489.0"
      ]
     },
     "execution_count": 18,
     "metadata": {},
     "output_type": "execute_result"
    }
   ],
   "source": [
    "us.daily_new_cases.sum()"
   ]
  },
  {
   "cell_type": "code",
   "execution_count": null,
   "metadata": {},
   "outputs": [],
   "source": [
    "us."
   ]
  },
  {
   "cell_type": "code",
   "execution_count": null,
   "metadata": {},
   "outputs": [],
   "source": []
  },
  {
   "cell_type": "code",
   "execution_count": null,
   "metadata": {},
   "outputs": [],
   "source": [
    "pd.__version__"
   ]
  },
  {
   "cell_type": "code",
   "execution_count": null,
   "metadata": {},
   "outputs": [],
   "source": []
  },
  {
   "cell_type": "code",
   "execution_count": null,
   "metadata": {},
   "outputs": [],
   "source": []
  },
  {
   "cell_type": "code",
   "execution_count": null,
   "metadata": {},
   "outputs": [],
   "source": []
  },
  {
   "cell_type": "code",
   "execution_count": null,
   "metadata": {},
   "outputs": [],
   "source": [
    "us.state_name.value_counts()"
   ]
  },
  {
   "cell_type": "code",
   "execution_count": null,
   "metadata": {},
   "outputs": [],
   "source": [
    "df.head(2)"
   ]
  },
  {
   "cell_type": "code",
   "execution_count": null,
   "metadata": {},
   "outputs": [],
   "source": [
    "df.groupby(['country_code_3'])['daily_new_cases'].sum().sort_values()"
   ]
  },
  {
   "cell_type": "code",
   "execution_count": null,
   "metadata": {},
   "outputs": [],
   "source": []
  },
  {
   "cell_type": "code",
   "execution_count": 29,
   "metadata": {},
   "outputs": [],
   "source": [
    "df.to_csv('../output_data/HOPKINS_CLEANED.csv', index=False)"
   ]
  },
  {
   "cell_type": "markdown",
   "metadata": {},
   "source": [
    "# QA "
   ]
  },
  {
   "cell_type": "markdown",
   "metadata": {},
   "source": [
    "#### Make sure all US states have the same number of days "
   ]
  },
  {
   "cell_type": "markdown",
   "metadata": {},
   "source": [
    "#### Total US cases "
   ]
  },
  {
   "cell_type": "code",
   "execution_count": 30,
   "metadata": {},
   "outputs": [
    {
     "data": {
      "text/plain": [
       "(25489.0, 0.0, 307.0)"
      ]
     },
     "execution_count": 30,
     "metadata": {},
     "output_type": "execute_result"
    }
   ],
   "source": [
    "us['daily_new_cases'].sum(), us['daily_new_recoveries'].sum(), us['daily_new_deaths'].sum()"
   ]
  },
  {
   "cell_type": "code",
   "execution_count": 31,
   "metadata": {
    "scrolled": true
   },
   "outputs": [
    {
     "data": {
      "text/html": [
       "<div>\n",
       "<style scoped>\n",
       "    .dataframe tbody tr th:only-of-type {\n",
       "        vertical-align: middle;\n",
       "    }\n",
       "\n",
       "    .dataframe tbody tr th {\n",
       "        vertical-align: top;\n",
       "    }\n",
       "\n",
       "    .dataframe thead th {\n",
       "        text-align: right;\n",
       "    }\n",
       "</style>\n",
       "<table border=\"1\" class=\"dataframe\">\n",
       "  <thead>\n",
       "    <tr style=\"text-align: right;\">\n",
       "      <th></th>\n",
       "      <th>date</th>\n",
       "      <th>daily_new_cases</th>\n",
       "    </tr>\n",
       "  </thead>\n",
       "  <tbody>\n",
       "    <tr>\n",
       "      <th>0</th>\n",
       "      <td>2020-01-22</td>\n",
       "      <td>1.0</td>\n",
       "    </tr>\n",
       "    <tr>\n",
       "      <th>1</th>\n",
       "      <td>2020-01-23</td>\n",
       "      <td>0.0</td>\n",
       "    </tr>\n",
       "    <tr>\n",
       "      <th>2</th>\n",
       "      <td>2020-01-24</td>\n",
       "      <td>1.0</td>\n",
       "    </tr>\n",
       "    <tr>\n",
       "      <th>3</th>\n",
       "      <td>2020-01-25</td>\n",
       "      <td>0.0</td>\n",
       "    </tr>\n",
       "    <tr>\n",
       "      <th>4</th>\n",
       "      <td>2020-01-26</td>\n",
       "      <td>3.0</td>\n",
       "    </tr>\n",
       "  </tbody>\n",
       "</table>\n",
       "</div>"
      ],
      "text/plain": [
       "        date  daily_new_cases\n",
       "0 2020-01-22              1.0\n",
       "1 2020-01-23              0.0\n",
       "2 2020-01-24              1.0\n",
       "3 2020-01-25              0.0\n",
       "4 2020-01-26              3.0"
      ]
     },
     "execution_count": 31,
     "metadata": {},
     "output_type": "execute_result"
    }
   ],
   "source": [
    "us.groupby(['date'])['daily_new_cases'].sum().reset_index().head(5)"
   ]
  },
  {
   "cell_type": "code",
   "execution_count": null,
   "metadata": {},
   "outputs": [],
   "source": []
  },
  {
   "cell_type": "markdown",
   "metadata": {},
   "source": [
    "## Check that daily counts are working "
   ]
  },
  {
   "cell_type": "code",
   "execution_count": null,
   "metadata": {},
   "outputs": [],
   "source": [
    "test_daily_vs_total_logic(df)"
   ]
  },
  {
   "cell_type": "code",
   "execution_count": null,
   "metadata": {},
   "outputs": [],
   "source": []
  },
  {
   "cell_type": "code",
   "execution_count": null,
   "metadata": {},
   "outputs": [],
   "source": []
  },
  {
   "cell_type": "code",
   "execution_count": null,
   "metadata": {
    "scrolled": true
   },
   "outputs": [],
   "source": [
    "df.loc[df['province_or_state'] == 'WA'].tail(5)"
   ]
  },
  {
   "cell_type": "code",
   "execution_count": null,
   "metadata": {
    "scrolled": true
   },
   "outputs": [],
   "source": [
    "df.loc[df['province_or_state'] == 'VA'].tail(5)"
   ]
  },
  {
   "cell_type": "code",
   "execution_count": null,
   "metadata": {
    "scrolled": false
   },
   "outputs": [],
   "source": [
    "df.loc[df['province_or_state'] == 'CA'].tail(5)"
   ]
  },
  {
   "cell_type": "code",
   "execution_count": null,
   "metadata": {},
   "outputs": [],
   "source": [
    "df.loc[df['country_or_region'].str.contains('Korea')].tail(5)"
   ]
  },
  {
   "cell_type": "code",
   "execution_count": null,
   "metadata": {},
   "outputs": [],
   "source": [
    "yesterday.sort_values('running_total_cases', ascending=False)[['country_or_region','running_total_cases','running_total_recoveries','running_total_deaths','country_population_2018','country_median_age']]"
   ]
  },
  {
   "cell_type": "markdown",
   "metadata": {},
   "source": [
    "## QA of Data "
   ]
  },
  {
   "cell_type": "code",
   "execution_count": 32,
   "metadata": {},
   "outputs": [
    {
     "data": {
      "text/plain": [
       "2020-03-16    4\n",
       "2020-03-18    4\n",
       "2020-03-06    2\n",
       "2020-03-13    1\n",
       "2020-01-23    1\n",
       "2020-02-29    1\n",
       "2020-02-07    1\n",
       "2020-03-09    1\n",
       "2020-01-31    1\n",
       "2020-03-20    1\n",
       "2020-02-02    1\n",
       "Name: date, dtype: int64"
      ]
     },
     "execution_count": 32,
     "metadata": {},
     "output_type": "execute_result"
    }
   ],
   "source": [
    "# This indicates a shift in the data\n",
    "df.loc[df['daily_new_cases'] < 0]['date'].value_counts()"
   ]
  },
  {
   "cell_type": "code",
   "execution_count": 33,
   "metadata": {},
   "outputs": [
    {
     "data": {
      "text/html": [
       "<div>\n",
       "<style scoped>\n",
       "    .dataframe tbody tr th:only-of-type {\n",
       "        vertical-align: middle;\n",
       "    }\n",
       "\n",
       "    .dataframe tbody tr th {\n",
       "        vertical-align: top;\n",
       "    }\n",
       "\n",
       "    .dataframe thead th {\n",
       "        text-align: right;\n",
       "    }\n",
       "</style>\n",
       "<table border=\"1\" class=\"dataframe\">\n",
       "  <thead>\n",
       "    <tr style=\"text-align: right;\">\n",
       "      <th></th>\n",
       "      <th>province_or_state</th>\n",
       "      <th>country_or_region</th>\n",
       "      <th>date</th>\n",
       "      <th>running_total_cases</th>\n",
       "      <th>state_and_country</th>\n",
       "      <th>running_total_cases_prev_day</th>\n",
       "      <th>daily_new_cases</th>\n",
       "      <th>running_total_recoveries</th>\n",
       "      <th>running_total_recoveries_prev_day</th>\n",
       "      <th>daily_new_recoveries</th>\n",
       "      <th>running_total_deaths</th>\n",
       "      <th>running_total_deaths_prev_day</th>\n",
       "      <th>daily_new_deaths</th>\n",
       "      <th>state_name</th>\n",
       "      <th>latitude</th>\n",
       "      <th>longitude</th>\n",
       "      <th>first_case_state_rank</th>\n",
       "      <th>first_case_country_rank</th>\n",
       "      <th>country_code_2</th>\n",
       "      <th>country_code_3</th>\n",
       "      <th>country_population_2018</th>\n",
       "      <th>country_median_age</th>\n",
       "      <th>country_running_agg</th>\n",
       "      <th>hundred_case_state_rank</th>\n",
       "      <th>hundred_case_country_rank</th>\n",
       "    </tr>\n",
       "  </thead>\n",
       "  <tbody>\n",
       "    <tr>\n",
       "      <th>16938</th>\n",
       "      <td>Grand Princess</td>\n",
       "      <td>US</td>\n",
       "      <td>2020-03-16</td>\n",
       "      <td>20</td>\n",
       "      <td>Grand Princess-US</td>\n",
       "      <td>21.0</td>\n",
       "      <td>-1.0</td>\n",
       "      <td>0</td>\n",
       "      <td>0.0</td>\n",
       "      <td>0.0</td>\n",
       "      <td>0</td>\n",
       "      <td>0.0</td>\n",
       "      <td>0.0</td>\n",
       "      <td>Grand Princess</td>\n",
       "      <td>NaN</td>\n",
       "      <td>NaN</td>\n",
       "      <td>10.0</td>\n",
       "      <td>43.0</td>\n",
       "      <td>US</td>\n",
       "      <td>USA</td>\n",
       "      <td>327167434.0</td>\n",
       "      <td>38.1</td>\n",
       "      <td>4632</td>\n",
       "      <td>NaN</td>\n",
       "      <td>10.0</td>\n",
       "    </tr>\n",
       "    <tr>\n",
       "      <th>17228</th>\n",
       "      <td>NV</td>\n",
       "      <td>US</td>\n",
       "      <td>2020-03-18</td>\n",
       "      <td>55</td>\n",
       "      <td>NV-US</td>\n",
       "      <td>56.0</td>\n",
       "      <td>-1.0</td>\n",
       "      <td>0</td>\n",
       "      <td>0.0</td>\n",
       "      <td>0.0</td>\n",
       "      <td>1</td>\n",
       "      <td>1.0</td>\n",
       "      <td>0.0</td>\n",
       "      <td>Nevada</td>\n",
       "      <td>39.876019</td>\n",
       "      <td>-117.224121</td>\n",
       "      <td>8.0</td>\n",
       "      <td>45.0</td>\n",
       "      <td>US</td>\n",
       "      <td>USA</td>\n",
       "      <td>327167434.0</td>\n",
       "      <td>38.1</td>\n",
       "      <td>7783</td>\n",
       "      <td>NaN</td>\n",
       "      <td>12.0</td>\n",
       "    </tr>\n",
       "    <tr>\n",
       "      <th>17374</th>\n",
       "      <td>UT</td>\n",
       "      <td>US</td>\n",
       "      <td>2020-03-20</td>\n",
       "      <td>78</td>\n",
       "      <td>UT-US</td>\n",
       "      <td>80.0</td>\n",
       "      <td>-2.0</td>\n",
       "      <td>0</td>\n",
       "      <td>0.0</td>\n",
       "      <td>0.0</td>\n",
       "      <td>0</td>\n",
       "      <td>0.0</td>\n",
       "      <td>0.0</td>\n",
       "      <td>Utah</td>\n",
       "      <td>39.419220</td>\n",
       "      <td>-111.950684</td>\n",
       "      <td>9.0</td>\n",
       "      <td>47.0</td>\n",
       "      <td>US</td>\n",
       "      <td>USA</td>\n",
       "      <td>327167434.0</td>\n",
       "      <td>38.1</td>\n",
       "      <td>19100</td>\n",
       "      <td>NaN</td>\n",
       "      <td>14.0</td>\n",
       "    </tr>\n",
       "    <tr>\n",
       "      <th>17420</th>\n",
       "      <td>WA</td>\n",
       "      <td>US</td>\n",
       "      <td>2020-03-18</td>\n",
       "      <td>1014</td>\n",
       "      <td>WA-US</td>\n",
       "      <td>1076.0</td>\n",
       "      <td>-62.0</td>\n",
       "      <td>0</td>\n",
       "      <td>1.0</td>\n",
       "      <td>-1.0</td>\n",
       "      <td>55</td>\n",
       "      <td>55.0</td>\n",
       "      <td>0.0</td>\n",
       "      <td>Washington</td>\n",
       "      <td>47.751076</td>\n",
       "      <td>-120.740135</td>\n",
       "      <td>19.0</td>\n",
       "      <td>45.0</td>\n",
       "      <td>US</td>\n",
       "      <td>USA</td>\n",
       "      <td>327167434.0</td>\n",
       "      <td>38.1</td>\n",
       "      <td>7783</td>\n",
       "      <td>12.0</td>\n",
       "      <td>12.0</td>\n",
       "    </tr>\n",
       "  </tbody>\n",
       "</table>\n",
       "</div>"
      ],
      "text/plain": [
       "      province_or_state country_or_region       date  running_total_cases  \\\n",
       "16938    Grand Princess                US 2020-03-16                   20   \n",
       "17228                NV                US 2020-03-18                   55   \n",
       "17374                UT                US 2020-03-20                   78   \n",
       "17420                WA                US 2020-03-18                 1014   \n",
       "\n",
       "       state_and_country  running_total_cases_prev_day  daily_new_cases  \\\n",
       "16938  Grand Princess-US                          21.0             -1.0   \n",
       "17228              NV-US                          56.0             -1.0   \n",
       "17374              UT-US                          80.0             -2.0   \n",
       "17420              WA-US                        1076.0            -62.0   \n",
       "\n",
       "       running_total_recoveries  running_total_recoveries_prev_day  \\\n",
       "16938                         0                                0.0   \n",
       "17228                         0                                0.0   \n",
       "17374                         0                                0.0   \n",
       "17420                         0                                1.0   \n",
       "\n",
       "       daily_new_recoveries  running_total_deaths  \\\n",
       "16938                   0.0                     0   \n",
       "17228                   0.0                     1   \n",
       "17374                   0.0                     0   \n",
       "17420                  -1.0                    55   \n",
       "\n",
       "       running_total_deaths_prev_day  daily_new_deaths      state_name  \\\n",
       "16938                            0.0               0.0  Grand Princess   \n",
       "17228                            1.0               0.0          Nevada   \n",
       "17374                            0.0               0.0            Utah   \n",
       "17420                           55.0               0.0      Washington   \n",
       "\n",
       "        latitude   longitude  first_case_state_rank  first_case_country_rank  \\\n",
       "16938        NaN         NaN                   10.0                     43.0   \n",
       "17228  39.876019 -117.224121                    8.0                     45.0   \n",
       "17374  39.419220 -111.950684                    9.0                     47.0   \n",
       "17420  47.751076 -120.740135                   19.0                     45.0   \n",
       "\n",
       "      country_code_2 country_code_3  country_population_2018  \\\n",
       "16938             US            USA              327167434.0   \n",
       "17228             US            USA              327167434.0   \n",
       "17374             US            USA              327167434.0   \n",
       "17420             US            USA              327167434.0   \n",
       "\n",
       "       country_median_age  country_running_agg  hundred_case_state_rank  \\\n",
       "16938                38.1                 4632                      NaN   \n",
       "17228                38.1                 7783                      NaN   \n",
       "17374                38.1                19100                      NaN   \n",
       "17420                38.1                 7783                     12.0   \n",
       "\n",
       "       hundred_case_country_rank  \n",
       "16938                       10.0  \n",
       "17228                       12.0  \n",
       "17374                       14.0  \n",
       "17420                       12.0  "
      ]
     },
     "execution_count": 33,
     "metadata": {},
     "output_type": "execute_result"
    }
   ],
   "source": [
    "# This indicates a shift in the data\n",
    "us.loc[us['daily_new_cases'] < 0]"
   ]
  },
  {
   "cell_type": "code",
   "execution_count": 34,
   "metadata": {},
   "outputs": [
    {
     "data": {
      "text/plain": [
       "(25489.0, 0.0, 307.0)"
      ]
     },
     "execution_count": 34,
     "metadata": {},
     "output_type": "execute_result"
    }
   ],
   "source": [
    "us['daily_new_cases'].sum(), us['daily_new_recoveries'].sum(), us['daily_new_deaths'].sum()"
   ]
  },
  {
   "cell_type": "code",
   "execution_count": 35,
   "metadata": {},
   "outputs": [
    {
     "data": {
      "text/plain": [
       "Not Provided             7\n",
       "Queensland               2\n",
       "NV                       1\n",
       "WA                       1\n",
       "UT                       1\n",
       "Northern Territory       1\n",
       "Saint Barthelemy         1\n",
       "Guizhou                  1\n",
       "Diamond Princess         1\n",
       "Grand Princess           1\n",
       "From Diamond Princess    1\n",
       "Name: province_or_state, dtype: int64"
      ]
     },
     "execution_count": 35,
     "metadata": {},
     "output_type": "execute_result"
    }
   ],
   "source": [
    "# This indicates a shift in the data\n",
    "df.loc[df['daily_new_cases'] < 0]['province_or_state'].value_counts()"
   ]
  },
  {
   "cell_type": "code",
   "execution_count": null,
   "metadata": {},
   "outputs": [],
   "source": []
  },
  {
   "cell_type": "code",
   "execution_count": null,
   "metadata": {},
   "outputs": [],
   "source": []
  }
 ],
 "metadata": {
  "kernelspec": {
   "display_name": "Python [conda env:osh_v2]",
   "language": "python",
   "name": "conda-env-osh_v2-py"
  },
  "language_info": {
   "codemirror_mode": {
    "name": "ipython",
    "version": 3
   },
   "file_extension": ".py",
   "mimetype": "text/x-python",
   "name": "python",
   "nbconvert_exporter": "python",
   "pygments_lexer": "ipython3",
   "version": "3.7.5"
  },
  "varInspector": {
   "cols": {
    "lenName": 16,
    "lenType": 16,
    "lenVar": 40
   },
   "kernels_config": {
    "python": {
     "delete_cmd_postfix": "",
     "delete_cmd_prefix": "del ",
     "library": "var_list.py",
     "varRefreshCmd": "print(var_dic_list())"
    },
    "r": {
     "delete_cmd_postfix": ") ",
     "delete_cmd_prefix": "rm(",
     "library": "var_list.r",
     "varRefreshCmd": "cat(var_dic_list()) "
    }
   },
   "types_to_exclude": [
    "module",
    "function",
    "builtin_function_or_method",
    "instance",
    "_Feature"
   ],
   "window_display": false
  }
 },
 "nbformat": 4,
 "nbformat_minor": 2
}
